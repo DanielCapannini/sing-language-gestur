{
 "cells": [
  {
   "cell_type": "code",
   "execution_count": 29,
   "metadata": {},
   "outputs": [],
   "source": [
    "import csv\n",
    "import copy\n",
    "import argparse\n",
    "import itertools\n",
    "import os\n",
    "from collections import Counter\n",
    "from collections import deque\n",
    "\n",
    "\n",
    "import cv2 as cv\n",
    "import numpy as np\n",
    "import mediapipe as mp"
   ]
  },
  {
   "cell_type": "code",
   "execution_count": 30,
   "metadata": {},
   "outputs": [],
   "source": [
    "def pre_process_landmark(landmark_list):\n",
    "    temp_landmark_list = copy.deepcopy(landmark_list)\n",
    "\n",
    "    # Convert to relative coordinates\n",
    "    base_x, base_y = 0, 0\n",
    "    for index, landmark_point in enumerate(temp_landmark_list):\n",
    "        if index == 0:\n",
    "            base_x, base_y = landmark_point[0], landmark_point[1]\n",
    "\n",
    "        temp_landmark_list[index][0] = temp_landmark_list[index][0] - base_x\n",
    "        temp_landmark_list[index][1] = temp_landmark_list[index][1] - base_y\n",
    "\n",
    "    # Convert to a one-dimensional list\n",
    "    temp_landmark_list = list(\n",
    "        itertools.chain.from_iterable(temp_landmark_list))\n",
    "\n",
    "    # Normalization\n",
    "    max_value = max(list(map(abs, temp_landmark_list)))\n",
    "\n",
    "    def normalize_(n):\n",
    "        return n / max_value\n",
    "\n",
    "    temp_landmark_list = list(map(normalize_, temp_landmark_list))\n",
    "\n",
    "    return temp_landmark_list"
   ]
  },
  {
   "cell_type": "code",
   "execution_count": 31,
   "metadata": {},
   "outputs": [],
   "source": [
    "def calc_landmark_list(image, landmarks):\n",
    "    image_width, image_height = image.shape[1], image.shape[0]\n",
    "\n",
    "    landmark_point = []\n",
    "\n",
    "    # Keypoint\n",
    "    for _, landmark in enumerate(landmarks.landmark):\n",
    "        landmark_x = min(int(landmark.x * image_width), image_width - 1)\n",
    "        landmark_y = min(int(landmark.y * image_height), image_height - 1)\n",
    "        # landmark_z = landmark.z\n",
    "\n",
    "        landmark_point.append([landmark_x, landmark_y])\n",
    "\n",
    "    return landmark_point"
   ]
  },
  {
   "cell_type": "code",
   "execution_count": 32,
   "metadata": {},
   "outputs": [],
   "source": [
    "def logging_csv(number, landmark_list):\n",
    "    if (0 <= number <= 30):\n",
    "        csv_path = './keypoint.csv'\n",
    "        with open(csv_path, 'a', newline=\"\") as f:\n",
    "            writer = csv.writer(f)\n",
    "            writer.writerow([number, *landmark_list])\n",
    "    return"
   ]
  },
  {
   "cell_type": "code",
   "execution_count": 33,
   "metadata": {},
   "outputs": [],
   "source": [
    "mp_drawing_styles = mp.solutions.drawing_styles\n",
    "\n",
    "mp_drawing = mp.solutions.drawing_utils\n",
    "mp_hands = mp.solutions.hands\n",
    "webcam=cv.VideoCapture(0)\n",
    "hands = mp_hands.Hands(\n",
    "        static_image_mode=False,\n",
    "        max_num_hands=1,\n",
    "        min_detection_confidence=0.4,\n",
    "        min_tracking_confidence=0.5,\n",
    "    )\n",
    "\n",
    "dataset_train = './dataset/asl_alphabet_train'"
   ]
  },
  {
   "cell_type": "code",
   "execution_count": 34,
   "metadata": {},
   "outputs": [
    {
     "name": "stdout",
     "output_type": "stream",
     "text": [
      "Loading images form  A\n",
      "Loading images form  B\n",
      "Loading images form  C\n",
      "Loading images form  D\n",
      "Loading images form  del\n",
      "Loading images form  E\n",
      "Loading images form  F\n",
      "Loading images form  G\n",
      "Loading images form  H\n",
      "Loading images form  I\n",
      "Loading images form  J\n",
      "Loading images form  K\n",
      "Loading images form  L\n",
      "Loading images form  M\n",
      "Loading images form  N\n",
      "Loading images form  O\n",
      "Loading images form  P\n",
      "Loading images form  Q\n",
      "Loading images form  R\n",
      "Loading images form  S\n",
      "Loading images form  space\n",
      "Loading images form  T\n",
      "Loading images form  U\n",
      "Loading images form  V\n",
      "Loading images form  W\n",
      "Loading images form  X\n",
      "Loading images form  Y\n",
      "Loading images form  Z\n"
     ]
    },
    {
     "ename": "",
     "evalue": "",
     "output_type": "error",
     "traceback": [
      "\u001b[1;31mThe Kernel crashed while executing code in the the current cell or a previous cell. Please review the code in the cell(s) to identify a possible cause of the failure. Click <a href='https://aka.ms/vscodeJupyterKernelCrash'>here</a> for more info. View Jupyter <a href='command:jupyter.viewOutput'>log</a> for further details."
     ]
    }
   ],
   "source": [
    "imgs=[]\n",
    "labels=[]\n",
    "count=0\n",
    "i=0\n",
    "list_dir=os.listdir(dataset_train)\n",
    "for label in range(len(list_dir)):\n",
    "    print(\"Loading images form \", list_dir[label])\n",
    "    for img_name in os.listdir(dataset_train+\"/\"+list_dir[label]):\n",
    "        if count >= 2000:\n",
    "            count = 0\n",
    "            break\n",
    "        img=cv.imread(dataset_train+\"/\"+list_dir[label]+\"/\"+img_name)\n",
    "        debug_image = copy.deepcopy(img)\n",
    "        results = hands.process(cv.cvtColor(img, cv.COLOR_BGR2RGB))\n",
    "        if results.multi_hand_landmarks:\n",
    "            count+=1\n",
    "            for hand_landmarks in results.multi_hand_landmarks:\n",
    "                landmark_list = calc_landmark_list(debug_image, hand_landmarks)\n",
    "                pre_processed_landmark_list = pre_process_landmark(landmark_list)\n",
    "                logging_csv(i, pre_processed_landmark_list)\n",
    "    i+=1"
   ]
  }
 ],
 "metadata": {
  "kernelspec": {
   "display_name": "base",
   "language": "python",
   "name": "python3"
  },
  "language_info": {
   "codemirror_mode": {
    "name": "ipython",
    "version": 3
   },
   "file_extension": ".py",
   "mimetype": "text/x-python",
   "name": "python",
   "nbconvert_exporter": "python",
   "pygments_lexer": "ipython3",
   "version": "3.9.13"
  },
  "orig_nbformat": 4
 },
 "nbformat": 4,
 "nbformat_minor": 2
}
