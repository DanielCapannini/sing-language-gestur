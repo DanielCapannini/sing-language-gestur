{
 "cells": [
  {
   "cell_type": "code",
   "execution_count": 1,
   "metadata": {},
   "outputs": [],
   "source": [
    "import os\n",
    "import cv2 as cv\n",
    "import numpy as np\n",
    "import matplotlib.pyplot as plt\n",
    "from tensorflow.keras import utils\n",
    "from tensorflow.keras.optimizers import Adam\n",
    "from tensorflow.keras.models import Sequential\n",
    "from tensorflow.keras.layers import Dense, Dropout, Flatten, Conv2D, MaxPooling2D, BatchNormalization, Convolution2D\n",
    "from tensorflow.keras.preprocessing.image import load_img, img_to_array, array_to_img\n",
    "from sklearn.model_selection import train_test_split\n",
    "from math import ceil"
   ]
  },
  {
   "cell_type": "code",
   "execution_count": 2,
   "metadata": {},
   "outputs": [],
   "source": [
    "dataset_train = './dataset/asl_alphabet_train'\n",
    "dataset_test = './dataset/asl_alphabet_test'\n",
    "model_save = './model7.hdf5'"
   ]
  },
  {
   "cell_type": "code",
   "execution_count": 3,
   "metadata": {},
   "outputs": [
    {
     "name": "stdout",
     "output_type": "stream",
     "text": [
      "Loading images form  A\n",
      "Loading images form  B\n",
      "Loading images form  C\n",
      "Loading images form  D\n",
      "Loading images form  del\n",
      "Loading images form  E\n",
      "Loading images form  F\n",
      "Loading images form  G\n",
      "Loading images form  H\n",
      "Loading images form  I\n",
      "Loading images form  J\n",
      "Loading images form  K\n",
      "Loading images form  L\n",
      "Loading images form  M\n",
      "Loading images form  N\n",
      "Loading images form  nothing\n",
      "Loading images form  O\n",
      "Loading images form  P\n",
      "Loading images form  Q\n",
      "Loading images form  R\n",
      "Loading images form  S\n",
      "Loading images form  space\n",
      "Loading images form  T\n",
      "Loading images form  U\n",
      "Loading images form  V\n",
      "Loading images form  W\n",
      "Loading images form  X\n",
      "Loading images form  Y\n",
      "Loading images form  Z\n"
     ]
    }
   ],
   "source": [
    "imgs=[]\n",
    "labels=[]\n",
    "list_dir=os.listdir(dataset_train)\n",
    "for label in range(len(list_dir)):\n",
    "    print(\"Loading images form \", list_dir[label])\n",
    "    for img_name in os.listdir(dataset_train+\"/\"+list_dir[label]):\n",
    "        img=cv.imread(dataset_train+\"/\"+list_dir[label]+\"/\"+img_name)\n",
    "        img=cv.GaussianBlur(img,(3,3),2)\n",
    "        img=cv.resize(img, (64,64))\n",
    "        imgs.append(img)\n",
    "        labels.append(label)\n"
   ]
  },
  {
   "cell_type": "code",
   "execution_count": 4,
   "metadata": {},
   "outputs": [],
   "source": [
    "imgs=np.array(imgs)\n",
    "normalisedX=imgs.astype('float32')/255\n",
    "label_encode=utils.to_categorical(labels)\n",
    "x_train, x_test, y_train, y_test=train_test_split(normalisedX, label_encode, test_size=0.2)"
   ]
  },
  {
   "cell_type": "code",
   "execution_count": 5,
   "metadata": {},
   "outputs": [],
   "source": [
    "classes = 29\n",
    "batch = 32\n",
    "epochs = 16\n",
    "learning_rate = 0.003"
   ]
  },
  {
   "cell_type": "code",
   "execution_count": 6,
   "metadata": {},
   "outputs": [],
   "source": [
    "model = Sequential()\n",
    "\n",
    "model.add(Conv2D(64, (3, 3), padding='same', input_shape=(64, 64, 3), activation='relu'))\n",
    "model.add(MaxPooling2D(pool_size=(2, 2)))\n",
    "model.add(BatchNormalization())\n",
    "\n",
    "model.add(Conv2D(128, (3, 3), padding='same', input_shape=(64, 64, 3), activation='relu'))\n",
    "model.add(MaxPooling2D(pool_size=(2, 2)))\n",
    "model.add(BatchNormalization())\n",
    "model.add(Dropout(0.2))\n",
    "\n",
    "model.add(Conv2D(256, (3, 3), padding='same', input_shape=(64, 64, 3), activation='relu'))\n",
    "model.add(MaxPooling2D(pool_size=(2, 2)))\n",
    "model.add(BatchNormalization())\n",
    "\n",
    "model.add(Flatten())\n",
    "model.add(Dropout(0.2))\n",
    "model.add(Dense(1024, activation='relu'))\n",
    "model.add(Dense(classes, activation='softmax'))"
   ]
  },
  {
   "cell_type": "code",
   "execution_count": 7,
   "metadata": {},
   "outputs": [
    {
     "name": "stderr",
     "output_type": "stream",
     "text": [
      "c:\\Users\\danie\\anaconda3\\lib\\site-packages\\keras\\optimizers\\optimizer_v2\\adam.py:114: UserWarning: The `lr` argument is deprecated, use `learning_rate` instead.\n",
      "  super().__init__(name, **kwargs)\n"
     ]
    }
   ],
   "source": [
    "adam = Adam(lr=learning_rate)\n",
    "model.compile(optimizer=adam, loss='categorical_crossentropy', metrics=['accuracy'])"
   ]
  },
  {
   "cell_type": "code",
   "execution_count": 8,
   "metadata": {},
   "outputs": [
    {
     "name": "stdout",
     "output_type": "stream",
     "text": [
      "Epoch 1/30\n",
      "1740/1740 [==============================] - 30s 13ms/step - loss: 2.2935 - accuracy: 0.3696 - val_loss: 1.7261 - val_accuracy: 0.4422\n",
      "Epoch 2/30\n",
      "1740/1740 [==============================] - 22s 13ms/step - loss: 0.7492 - accuracy: 0.7470 - val_loss: 0.5954 - val_accuracy: 0.7977\n",
      "Epoch 3/30\n",
      "1740/1740 [==============================] - 24s 14ms/step - loss: 0.2710 - accuracy: 0.9092 - val_loss: 0.3986 - val_accuracy: 0.8764\n",
      "Epoch 4/30\n",
      "1740/1740 [==============================] - 23s 13ms/step - loss: 0.1688 - accuracy: 0.9465 - val_loss: 8.3478 - val_accuracy: 0.4206\n",
      "Epoch 5/30\n",
      "1740/1740 [==============================] - 22s 13ms/step - loss: 0.1306 - accuracy: 0.9604 - val_loss: 0.4819 - val_accuracy: 0.8999\n",
      "Epoch 6/30\n",
      "1740/1740 [==============================] - 22s 13ms/step - loss: 0.1066 - accuracy: 0.9686 - val_loss: 0.1047 - val_accuracy: 0.9619\n",
      "Epoch 7/30\n",
      "1740/1740 [==============================] - 22s 13ms/step - loss: 0.0982 - accuracy: 0.9714 - val_loss: 0.0678 - val_accuracy: 0.9782\n",
      "Epoch 8/30\n",
      "1740/1740 [==============================] - 22s 13ms/step - loss: 0.0923 - accuracy: 0.9769 - val_loss: 0.3512 - val_accuracy: 0.9330\n",
      "Epoch 9/30\n",
      "1740/1740 [==============================] - 22s 13ms/step - loss: 0.0782 - accuracy: 0.9797 - val_loss: 0.1572 - val_accuracy: 0.9586\n",
      "Epoch 10/30\n",
      "1740/1740 [==============================] - 22s 13ms/step - loss: 0.0881 - accuracy: 0.9787 - val_loss: 1.0627 - val_accuracy: 0.8649\n",
      "Epoch 11/30\n",
      "1740/1740 [==============================] - 22s 13ms/step - loss: 0.0793 - accuracy: 0.9823 - val_loss: 0.0489 - val_accuracy: 0.9898\n",
      "Epoch 12/30\n",
      "1740/1740 [==============================] - 22s 13ms/step - loss: 0.0746 - accuracy: 0.9838 - val_loss: 0.0092 - val_accuracy: 0.9967\n",
      "Epoch 13/30\n",
      "1740/1740 [==============================] - 22s 13ms/step - loss: 0.0847 - accuracy: 0.9830 - val_loss: 0.0709 - val_accuracy: 0.9892\n",
      "Epoch 14/30\n",
      "1740/1740 [==============================] - 22s 13ms/step - loss: 0.0648 - accuracy: 0.9872 - val_loss: 0.3018 - val_accuracy: 0.9557\n",
      "Epoch 15/30\n",
      "1740/1740 [==============================] - 22s 13ms/step - loss: 0.0983 - accuracy: 0.9834 - val_loss: 2.3117 - val_accuracy: 0.8335\n",
      "Epoch 16/30\n",
      "1740/1740 [==============================] - 22s 13ms/step - loss: 0.0815 - accuracy: 0.9865 - val_loss: 0.0333 - val_accuracy: 0.9930\n",
      "Epoch 17/30\n",
      "1740/1740 [==============================] - 22s 13ms/step - loss: 0.0945 - accuracy: 0.9856 - val_loss: 0.1244 - val_accuracy: 0.9815\n",
      "Epoch 18/30\n",
      "1740/1740 [==============================] - 23s 13ms/step - loss: 0.0791 - accuracy: 0.9881 - val_loss: 0.0279 - val_accuracy: 0.9943\n",
      "Epoch 19/30\n",
      "1740/1740 [==============================] - 23s 13ms/step - loss: 0.0922 - accuracy: 0.9872 - val_loss: 0.0398 - val_accuracy: 0.9907\n",
      "Epoch 20/30\n",
      "1740/1740 [==============================] - 22s 13ms/step - loss: 0.1263 - accuracy: 0.9847 - val_loss: 0.0379 - val_accuracy: 0.9929\n",
      "Epoch 21/30\n",
      "1740/1740 [==============================] - 22s 13ms/step - loss: 0.0662 - accuracy: 0.9908 - val_loss: 0.2090 - val_accuracy: 0.9699\n",
      "Epoch 22/30\n",
      "1740/1740 [==============================] - 22s 13ms/step - loss: 0.0825 - accuracy: 0.9888 - val_loss: 0.1235 - val_accuracy: 0.9823\n",
      "Epoch 23/30\n",
      "1740/1740 [==============================] - 22s 13ms/step - loss: 0.0783 - accuracy: 0.9904 - val_loss: 2.1162 - val_accuracy: 0.8218\n",
      "Epoch 24/30\n",
      "1740/1740 [==============================] - 22s 13ms/step - loss: 0.0790 - accuracy: 0.9907 - val_loss: 0.5259 - val_accuracy: 0.9582\n",
      "Epoch 25/30\n",
      "1740/1740 [==============================] - 22s 13ms/step - loss: 0.1248 - accuracy: 0.9876 - val_loss: 0.0920 - val_accuracy: 0.9874\n",
      "Epoch 26/30\n",
      "1740/1740 [==============================] - 22s 13ms/step - loss: 0.0710 - accuracy: 0.9920 - val_loss: 0.0944 - val_accuracy: 0.9919\n",
      "Epoch 27/30\n",
      "1740/1740 [==============================] - 22s 13ms/step - loss: 0.0728 - accuracy: 0.9925 - val_loss: 0.0736 - val_accuracy: 0.9888\n",
      "Epoch 28/30\n",
      "1740/1740 [==============================] - 22s 13ms/step - loss: 0.1077 - accuracy: 0.9897 - val_loss: 0.2638 - val_accuracy: 0.9789\n",
      "Epoch 29/30\n",
      "1740/1740 [==============================] - 22s 13ms/step - loss: 0.0830 - accuracy: 0.9921 - val_loss: 0.0663 - val_accuracy: 0.9908\n",
      "Epoch 30/30\n",
      "1740/1740 [==============================] - 23s 13ms/step - loss: 0.0713 - accuracy: 0.9934 - val_loss: 0.1224 - val_accuracy: 0.9886\n"
     ]
    }
   ],
   "source": [
    "history = model.fit(x_train, y_train, batch_size=batch, epochs=epochs, validation_split=0.2, shuffle = True, verbose=1)"
   ]
  },
  {
   "cell_type": "code",
   "execution_count": 9,
   "metadata": {},
   "outputs": [],
   "source": [
    "model.save(model_save)"
   ]
  },
  {
   "cell_type": "code",
   "execution_count": 10,
   "metadata": {},
   "outputs": [
    {
     "data": {
      "image/png": "[encoded data removed]",
      "text/plain": [
       "<Figure size 800x500 with 1 Axes>"
      ]
     },
     "metadata": {},
     "output_type": "display_data"
    },
    {
     "ename": "",
     "evalue": "",
     "output_type": "error",
     "traceback": [
      "\u001b[1;31mThe Kernel crashed while executing code in the the current cell or a previous cell. Please review the code in the cell(s) to identify a possible cause of the failure. Click <a href='https://aka.ms/vscodeJupyterKernelCrash'>here</a> for more info. View Jupyter <a href='command:jupyter.viewOutput'>log</a> for further details."
     ]
    }
   ],
   "source": [
    "plt.figure(figsize=(8,5))\n",
    "\n",
    "plt.plot(history.history['accuracy'], label='train_accuracy',)\n",
    "plt.plot(history.history['val_accuracy'], label='val_accuracy')\n",
    "plt.xlabel('epoch')\n",
    "plt.ylabel('accuracy')\n",
    "plt.legend()\n",
    "plt.title(\"classifier\")\n",
    "\n",
    "plt.show()"
   ]
  }
 ],
 "metadata": {
  "kernelspec": {
   "display_name": "base",
   "language": "python",
   "name": "python3"
  },
  "language_info": {
   "codemirror_mode": {
    "name": "ipython",
    "version": 3
   },
   "file_extension": ".py",
   "mimetype": "text/x-python",
   "name": "python",
   "nbconvert_exporter": "python",
   "pygments_lexer": "ipython3",
   "version": "3.9.13"
  },
  "orig_nbformat": 4
 },
 "nbformat": 4,
 "nbformat_minor": 2
}
