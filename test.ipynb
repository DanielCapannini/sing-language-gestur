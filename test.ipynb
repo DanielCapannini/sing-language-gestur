{
 "cells": [
  {
   "cell_type": "code",
   "execution_count": 1,
   "metadata": {},
   "outputs": [],
   "source": [
    "import os\n",
    "import cv2 as cv\n",
    "import numpy as np\n",
    "from tensorflow.keras.models import Sequential, load_model"
   ]
  },
  {
   "cell_type": "code",
   "execution_count": 2,
   "metadata": {},
   "outputs": [],
   "source": [
    "model_save=\"model.hdf5\"\n",
    "classes = ['A', 'B', 'C', 'D', 'del', 'E', 'F', 'G', 'H', 'I', 'J', 'K', 'L',\n",
    "           'M', 'N', 'nothing', 'O', 'P', 'Q', 'R', 'S', 'space', 'T', 'U', 'V',\n",
    "           'W', 'X', 'Y', 'Z']\n",
    "\n",
    "model=load_model(model_save)"
   ]
  },
  {
   "cell_type": "code",
   "execution_count": 14,
   "metadata": {},
   "outputs": [],
   "source": [
    "def prediction(img):\n",
    "    img=cv.resize(img, (48,48))\n",
    "    img=np.array(img)\n",
    "    img=img.astype('float32')/255.0\n",
    "    img = np.expand_dims(img, axis=0)\n",
    "    print(img.shape)\n",
    "    pred=model.predict(img)\n",
    "    return classes[np.argmax(pred)], pred"
   ]
  },
  {
   "cell_type": "code",
   "execution_count": 4,
   "metadata": {},
   "outputs": [],
   "source": [
    "img=cv.imread('./dataset/asl_alphabet_test/A_test.jpg')"
   ]
  },
  {
   "cell_type": "code",
   "execution_count": 15,
   "metadata": {},
   "outputs": [
    {
     "name": "stdout",
     "output_type": "stream",
     "text": [
      "(1, 48, 48, 3)\n",
      "1/1 [==============================] - 4s 4s/step\n",
      "A\n",
      "[[1.0000000e+00 5.1143073e-30 8.9868384e-18 2.1969263e-31 0.0000000e+00\n",
      "  7.5339188e-18 3.7395000e-20 2.5055390e-28 0.0000000e+00 7.4556655e-26\n",
      "  4.5295721e-23 1.1168592e-28 1.9861695e-13 2.2053571e-23 5.9620561e-23\n",
      "  6.8060369e-27 6.4155533e-25 6.2741835e-33 1.3068109e-22 4.3210420e-31\n",
      "  4.3634929e-14 1.8417851e-33 4.0764109e-10 2.8995097e-36 1.7778674e-34\n",
      "  9.1583518e-34 2.6972534e-21 1.0535313e-21 2.1387358e-13]]\n"
     ]
    }
   ],
   "source": [
    "class_model, predit=prediction(img)\n",
    "print(class_model)\n",
    "print(predit)"
   ]
  }
 ],
 "metadata": {
  "kernelspec": {
   "display_name": "base",
   "language": "python",
   "name": "python3"
  },
  "language_info": {
   "codemirror_mode": {
    "name": "ipython",
    "version": 3
   },
   "file_extension": ".py",
   "mimetype": "text/x-python",
   "name": "python",
   "nbconvert_exporter": "python",
   "pygments_lexer": "ipython3",
   "version": "3.9.13"
  },
  "orig_nbformat": 4
 },
 "nbformat": 4,
 "nbformat_minor": 2
}
