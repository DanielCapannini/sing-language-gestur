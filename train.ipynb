{
 "cells": [
  {
   "cell_type": "code",
   "execution_count": 2,
   "metadata": {},
   "outputs": [],
   "source": [
    "import os\n",
    "import cv2 as cv\n",
    "import numpy as np\n",
    "import matplotlib.pyplot as plt\n",
    "from tensorflow.keras import utils\n",
    "from tensorflow.keras.optimizers import Adam\n",
    "from tensorflow.keras.models import Sequential\n",
    "from tensorflow.keras.layers import Dense, Dropout, Flatten, Conv2D, MaxPooling2D, BatchNormalization\n",
    "from sklearn.model_selection import train_test_split"
   ]
  },
  {
   "cell_type": "code",
   "execution_count": 3,
   "metadata": {},
   "outputs": [],
   "source": [
    "dataset_train = './dataset/asl_alphabet_train'\n",
    "dataset_test = './dataset/asl_alphabet_test'\n",
    "model_save = './model.hdf5'"
   ]
  },
  {
   "cell_type": "code",
   "execution_count": 6,
   "metadata": {},
   "outputs": [
    {
     "name": "stdout",
     "output_type": "stream",
     "text": [
      "Loading images form  A\n",
      "Loading images form  B\n",
      "Loading images form  C\n",
      "Loading images form  D\n",
      "Loading images form  del\n",
      "Loading images form  E\n",
      "Loading images form  F\n",
      "Loading images form  G\n",
      "Loading images form  H\n",
      "Loading images form  I\n",
      "Loading images form  J\n",
      "Loading images form  K\n",
      "Loading images form  L\n",
      "Loading images form  M\n",
      "Loading images form  N\n",
      "Loading images form  nothing\n",
      "Loading images form  O\n",
      "Loading images form  P\n",
      "Loading images form  Q\n",
      "Loading images form  R\n",
      "Loading images form  S\n",
      "Loading images form  space\n",
      "Loading images form  T\n",
      "Loading images form  U\n",
      "Loading images form  V\n",
      "Loading images form  W\n",
      "Loading images form  X\n",
      "Loading images form  Y\n",
      "Loading images form  Z\n"
     ]
    }
   ],
   "source": [
    "imgs=[]\n",
    "labels=[]\n",
    "list_dir=os.listdir(dataset_train)\n",
    "for label in range(len(list_dir)):\n",
    "    print(\"Loading images form \", list_dir[label])\n",
    "    for img_name in os.listdir(dataset_train+\"/\"+list_dir[label]):\n",
    "        img=cv.imread(dataset_train+\"/\"+list_dir[label]+\"/\"+img_name)\n",
    "        img=cv.resize(img, (48,48))\n",
    "        imgs.append(img)\n",
    "        labels.append(label)"
   ]
  },
  {
   "cell_type": "code",
   "execution_count": 7,
   "metadata": {},
   "outputs": [],
   "source": [
    "imgs=np.array(imgs)\n",
    "normalisedX=imgs.astype('float32')/255\n",
    "label_encode=utils.to_categorical(labels)\n",
    "x_train, x_test, y_train, y_test=train_test_split(normalisedX, label_encode, test_size=0.2)"
   ]
  },
  {
   "cell_type": "code",
   "execution_count": 8,
   "metadata": {},
   "outputs": [],
   "source": [
    "classes = 29\n",
    "batch = 32\n",
    "epochs = 15\n",
    "learning_rate = 0.001"
   ]
  },
  {
   "cell_type": "code",
   "execution_count": 9,
   "metadata": {},
   "outputs": [],
   "source": [
    "model = Sequential()\n",
    "\n",
    "model.add(Conv2D(64, (3, 3), padding='same', input_shape=(48, 48, 3), activation='relu'))\n",
    "model.add(MaxPooling2D(pool_size=(2, 2)))\n",
    "model.add(BatchNormalization())\n",
    "\n",
    "model.add(Conv2D(128, (3, 3), padding='same', input_shape=(48, 48, 3), activation='relu'))\n",
    "model.add(MaxPooling2D(pool_size=(2, 2)))\n",
    "model.add(BatchNormalization())\n",
    "model.add(Dropout(0.2))\n",
    "\n",
    "model.add(Conv2D(256, (3, 3), padding='same', input_shape=(48, 48, 3), activation='relu'))\n",
    "model.add(MaxPooling2D(pool_size=(2, 2)))\n",
    "model.add(BatchNormalization())\n",
    "\n",
    "model.add(Flatten())\n",
    "model.add(Dropout(0.2))\n",
    "model.add(Dense(1024, activation='relu'))\n",
    "model.add(Dense(classes, activation='softmax'))"
   ]
  },
  {
   "cell_type": "code",
   "execution_count": 10,
   "metadata": {},
   "outputs": [
    {
     "name": "stderr",
     "output_type": "stream",
     "text": [
      "c:\\Users\\danie\\anaconda3\\lib\\site-packages\\keras\\optimizers\\optimizer_v2\\adam.py:114: UserWarning: The `lr` argument is deprecated, use `learning_rate` instead.\n",
      "  super().__init__(name, **kwargs)\n"
     ]
    }
   ],
   "source": [
    "adam = Adam(lr=learning_rate)\n",
    "model.compile(optimizer=adam, loss='categorical_crossentropy', metrics=['accuracy'])"
   ]
  },
  {
   "cell_type": "code",
   "execution_count": 11,
   "metadata": {},
   "outputs": [
    {
     "name": "stdout",
     "output_type": "stream",
     "text": [
      "Model: \"sequential\"\n",
      "_________________________________________________________________\n",
      " Layer (type)                Output Shape              Param #   \n",
      "=================================================================\n",
      " conv2d (Conv2D)             (None, 48, 48, 64)        1792      \n",
      "                                                                 \n",
      " max_pooling2d (MaxPooling2D  (None, 24, 24, 64)       0         \n",
      " )                                                               \n",
      "                                                                 \n",
      " batch_normalization (BatchN  (None, 24, 24, 64)       256       \n",
      " ormalization)                                                   \n",
      "                                                                 \n",
      " conv2d_1 (Conv2D)           (None, 24, 24, 128)       73856     \n",
      "                                                                 \n",
      " max_pooling2d_1 (MaxPooling  (None, 12, 12, 128)      0         \n",
      " 2D)                                                             \n",
      "                                                                 \n",
      " batch_normalization_1 (Batc  (None, 12, 12, 128)      512       \n",
      " hNormalization)                                                 \n",
      "                                                                 \n",
      " dropout (Dropout)           (None, 12, 12, 128)       0         \n",
      "                                                                 \n",
      " conv2d_2 (Conv2D)           (None, 12, 12, 256)       295168    \n",
      "                                                                 \n",
      " max_pooling2d_2 (MaxPooling  (None, 6, 6, 256)        0         \n",
      " 2D)                                                             \n",
      "                                                                 \n",
      " batch_normalization_2 (Batc  (None, 6, 6, 256)        1024      \n",
      " hNormalization)                                                 \n",
      "                                                                 \n",
      " flatten (Flatten)           (None, 9216)              0         \n",
      "                                                                 \n",
      " dropout_1 (Dropout)         (None, 9216)              0         \n",
      "                                                                 \n",
      " dense (Dense)               (None, 1024)              9438208   \n",
      "                                                                 \n",
      " dense_1 (Dense)             (None, 29)                29725     \n",
      "                                                                 \n",
      "=================================================================\n",
      "Total params: 9,840,541\n",
      "Trainable params: 9,839,645\n",
      "Non-trainable params: 896\n",
      "_________________________________________________________________\n"
     ]
    }
   ],
   "source": [
    "model.summary()"
   ]
  },
  {
   "cell_type": "code",
   "execution_count": 12,
   "metadata": {},
   "outputs": [
    {
     "name": "stdout",
     "output_type": "stream",
     "text": [
      "Epoch 1/15\n",
      "1740/1740 [==============================] - 69s 36ms/step - loss: 0.7345 - accuracy: 0.7833 - val_loss: 0.2316 - val_accuracy: 0.9176\n",
      "Epoch 2/15\n",
      "1740/1740 [==============================] - 59s 34ms/step - loss: 0.1327 - accuracy: 0.9595 - val_loss: 0.5891 - val_accuracy: 0.8594\n",
      "Epoch 3/15\n",
      "1740/1740 [==============================] - 59s 34ms/step - loss: 0.0957 - accuracy: 0.9729 - val_loss: 0.7868 - val_accuracy: 0.8566\n",
      "Epoch 4/15\n",
      "1740/1740 [==============================] - 59s 34ms/step - loss: 0.0654 - accuracy: 0.9818 - val_loss: 0.0444 - val_accuracy: 0.9896\n",
      "Epoch 5/15\n",
      "1740/1740 [==============================] - 59s 34ms/step - loss: 0.0726 - accuracy: 0.9819 - val_loss: 0.5227 - val_accuracy: 0.9012\n",
      "Epoch 6/15\n",
      "1740/1740 [==============================] - 59s 34ms/step - loss: 0.0592 - accuracy: 0.9862 - val_loss: 0.0295 - val_accuracy: 0.9921\n",
      "Epoch 7/15\n",
      "1740/1740 [==============================] - 59s 34ms/step - loss: 0.0516 - accuracy: 0.9878 - val_loss: 0.1215 - val_accuracy: 0.9687\n",
      "Epoch 8/15\n",
      "1740/1740 [==============================] - 59s 34ms/step - loss: 0.0422 - accuracy: 0.9899 - val_loss: 0.0750 - val_accuracy: 0.9792\n",
      "Epoch 9/15\n",
      "1740/1740 [==============================] - 60s 34ms/step - loss: 0.0448 - accuracy: 0.9902 - val_loss: 0.0099 - val_accuracy: 0.9976\n",
      "Epoch 10/15\n",
      "1740/1740 [==============================] - 59s 34ms/step - loss: 0.0370 - accuracy: 0.9910 - val_loss: 0.1088 - val_accuracy: 0.9780\n",
      "Epoch 11/15\n",
      "1740/1740 [==============================] - 58s 34ms/step - loss: 0.0360 - accuracy: 0.9923 - val_loss: 0.0130 - val_accuracy: 0.9954\n",
      "Epoch 12/15\n",
      "1740/1740 [==============================] - 58s 33ms/step - loss: 0.0298 - accuracy: 0.9938 - val_loss: 0.0111 - val_accuracy: 0.9972\n",
      "Epoch 13/15\n",
      "1740/1740 [==============================] - 59s 34ms/step - loss: 0.0311 - accuracy: 0.9932 - val_loss: 0.3430 - val_accuracy: 0.9392\n",
      "Epoch 14/15\n",
      "1740/1740 [==============================] - 57s 33ms/step - loss: 0.0272 - accuracy: 0.9945 - val_loss: 0.0085 - val_accuracy: 0.9976\n",
      "Epoch 15/15\n",
      "1740/1740 [==============================] - 63s 36ms/step - loss: 0.0305 - accuracy: 0.9930 - val_loss: 0.0131 - val_accuracy: 0.9964\n"
     ]
    }
   ],
   "source": [
    "history = model.fit(x_train, y_train, batch_size=batch, epochs=epochs, validation_split=0.2, shuffle = True, verbose=1)"
   ]
  },
  {
   "cell_type": "code",
   "execution_count": 13,
   "metadata": {},
   "outputs": [
    {
     "ename": "",
     "evalue": "",
     "output_type": "error",
     "traceback": [
      "\u001b[1;31mThe Kernel crashed while executing code in the the current cell or a previous cell. Please review the code in the cell(s) to identify a possible cause of the failure. Click <a href='https://aka.ms/vscodeJupyterKernelCrash'>here</a> for more info. View Jupyter <a href='command:jupyter.viewOutput'>log</a> for further details."
     ]
    }
   ],
   "source": [
    "model.save(model_save)"
   ]
  }
 ],
 "metadata": {
  "kernelspec": {
   "display_name": "base",
   "language": "python",
   "name": "python3"
  },
  "language_info": {
   "codemirror_mode": {
    "name": "ipython",
    "version": 3
   },
   "file_extension": ".py",
   "mimetype": "text/x-python",
   "name": "python",
   "nbconvert_exporter": "python",
   "pygments_lexer": "ipython3",
   "version": "3.9.13"
  },
  "orig_nbformat": 4
 },
 "nbformat": 4,
 "nbformat_minor": 2
}
